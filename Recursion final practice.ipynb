{
 "cells": [
  {
   "cell_type": "code",
   "execution_count": 1,
   "metadata": {},
   "outputs": [
    {
     "name": "stdout",
     "output_type": "stream",
     "text": [
      "[1, 2, 3, 4, 5, 6, 7, 8, 9, 10, 11, 12, 13, 14, 15, 16, 17]\n"
     ]
    }
   ],
   "source": [
    "def flattenList(given_list,output_list):\n",
    "  if given_list == []:\n",
    "    return output_list\n",
    "  if type(given_list[0]) == int:\n",
    "    g = given_list.pop(0)\n",
    "    output_list.append(g)\n",
    "    \n",
    "    \n",
    " \n",
    "  else: \n",
    "    flattenList(given_list[0],output_list)\n",
    "    given_list.pop(0)\n",
    "  flattenList(given_list,output_list)\n",
    "  return output_list\n",
    "given_list = [1, [2, [3, [4], 5], 6], 7, 8, [9, [[10, 11], 12], 13], 14, [15, [16, [17]]]]\n",
    "output_list = flattenList(given_list, [])\n",
    "print( output_list)"
   ]
  },
  {
   "cell_type": "code",
   "execution_count": 2,
   "metadata": {},
   "outputs": [
    {
     "data": {
      "text/plain": [
       "[1, 2, 33, 4]"
      ]
     },
     "execution_count": 2,
     "metadata": {},
     "output_type": "execute_result"
    }
   ],
   "source": [
    "class Node:\n",
    "  def __init__(self, elem,next = None, bottom = None ):\n",
    "    self.next = next # for next item\n",
    "    self.bottom = bottom # for nested item check\n",
    "    self.elem = elem # The integer value.\n",
    "def flattenLink(head,output_list):\n",
    "  if head == None:\n",
    "    return None\n",
    "  \n",
    "  output_list.append(head.elem)\n",
    " \n",
    "  flattenLink(head.bottom,output_list)\n",
    "  flattenLink(head.next,output_list)\n",
    "  return output_list\n",
    "a = Node(1)\n",
    "b = Node(2)\n",
    "c = Node(33)\n",
    "d = Node(4)\n",
    "a.next = b\n",
    "b.bottom = c\n",
    "b.next = d\n",
    "flattenLink(a,[])\n",
    "\n",
    "    \n"
   ]
  },
  {
   "cell_type": "code",
   "execution_count": 3,
   "metadata": {},
   "outputs": [
    {
     "data": {
      "text/plain": [
       "6"
      ]
     },
     "execution_count": 3,
     "metadata": {},
     "output_type": "execute_result"
    }
   ],
   "source": [
    "def factorial(n):\n",
    "  if n == 0:\n",
    "    return 1\n",
    "  return n*factorial(n-1)\n",
    "factorial(3)"
   ]
  },
  {
   "cell_type": "code",
   "execution_count": 4,
   "metadata": {},
   "outputs": [
    {
     "data": {
      "text/plain": [
       "5"
      ]
     },
     "execution_count": 4,
     "metadata": {},
     "output_type": "execute_result"
    }
   ],
   "source": [
    "def fibonacci(n):\n",
    "  if n == 1:\n",
    "    return 1\n",
    "  if n == 0 :\n",
    "    return 0\n",
    "  return fibonacci(n-1)+fibonacci(n-2)\n",
    "fibonacci(5)"
   ]
  },
  {
   "cell_type": "code",
   "execution_count": 5,
   "metadata": {},
   "outputs": [
    {
     "name": "stdout",
     "output_type": "stream",
     "text": [
      "1\n",
      "4\n",
      "5\n",
      "6\n",
      "78\n",
      "89\n"
     ]
    }
   ],
   "source": [
    "def arr_print(arr,i = 0):\n",
    "  if i == len(arr):\n",
    "    return \n",
    "  print(arr[i])\n",
    "  arr_print(arr,i+1)\n",
    "arr_print([1,4,5,6,78,89])\n"
   ]
  },
  {
   "cell_type": "code",
   "execution_count": 6,
   "metadata": {},
   "outputs": [
    {
     "data": {
      "text/plain": [
       "27"
      ]
     },
     "execution_count": 6,
     "metadata": {},
     "output_type": "execute_result"
    }
   ],
   "source": [
    "def powerN(base,p):\n",
    "  if p == 0 :\n",
    "    return 1\n",
    "  return base*powerN(base,p-1)\n",
    "powerN(3,3)"
   ]
  },
  {
   "cell_type": "code",
   "execution_count": 7,
   "metadata": {},
   "outputs": [
    {
     "data": {
      "text/plain": [
       "10111"
      ]
     },
     "execution_count": 7,
     "metadata": {},
     "output_type": "execute_result"
    }
   ],
   "source": [
    "def decimal_to_binary(n):\n",
    "  if n == 1:\n",
    "    return str(1)\n",
    "  a =   decimal_to_binary(n//2) + str(n%2) \n",
    "  return a\n",
    "int(decimal_to_binary(23)) \n",
    "# 23//2 = 11(1), 11//2 = 5(1),5//2 = 2(1),2//2=1(0),1//2=0(1)"
   ]
  },
  {
   "cell_type": "code",
   "execution_count": 8,
   "metadata": {},
   "outputs": [
    {
     "data": {
      "text/plain": [
       "23"
      ]
     },
     "execution_count": 8,
     "metadata": {},
     "output_type": "execute_result"
    }
   ],
   "source": [
    "def binary_to_decimal(n,i=0):\n",
    "  if n == 0 :\n",
    "    return 0 \n",
    "  return (n%10)*2**i+binary_to_decimal(n//10,i+1)\n",
    "binary_to_decimal(10111)\n",
    "#\n"
   ]
  },
  {
   "cell_type": "code",
   "execution_count": 9,
   "metadata": {},
   "outputs": [
    {
     "name": "stdout",
     "output_type": "stream",
     "text": [
      "23\n"
     ]
    }
   ],
   "source": [
    "\n",
    "def binary_to_decimal_linked(head,i=0):\n",
    "  if head == None:\n",
    "    return 0\n",
    "  return (head.elem)*(2**i)+binary_to_decimal_linked(head.next,i+1)\n",
    "n1 = Node(1)\n",
    "n2 = Node(0,n1)\n",
    "n3 = Node(1,n2)\n",
    "n4 = Node(1,n3)\n",
    "head = Node(1,n4)\n",
    "print(binary_to_decimal_linked(head))"
   ]
  },
  {
   "cell_type": "code",
   "execution_count": 10,
   "metadata": {},
   "outputs": [
    {
     "name": "stdout",
     "output_type": "stream",
     "text": [
      "4\n"
     ]
    }
   ],
   "source": [
    "def add_all(head):\n",
    "  if head == None:\n",
    "    return 0\n",
    "  return head.elem+add_all(head.next)\n",
    "print(add_all(head))"
   ]
  },
  {
   "cell_type": "code",
   "execution_count": 18,
   "metadata": {},
   "outputs": [],
   "source": [
    "def reverse_print(head):\n",
    "  if head == None:\n",
    "    return None\n",
    "  reverse_print(head.next)\n",
    "  print(head.elem)\n",
    "reverse_print(head)"
   ]
  },
  {
   "cell_type": "code",
   "execution_count": 12,
   "metadata": {},
   "outputs": [
    {
     "data": {
      "text/plain": [
       "48"
      ]
     },
     "execution_count": 12,
     "metadata": {},
     "output_type": "execute_result"
    }
   ],
   "source": [
    "def hocBuilder(height):\n",
    "  if height == 0:\n",
    "    return 3\n",
    "  return 5+hocBuilder(height-1)\n",
    "hocBuilder(9)"
   ]
  },
  {
   "cell_type": "code",
   "execution_count": 19,
   "metadata": {},
   "outputs": [
    {
     "name": "stdout",
     "output_type": "stream",
     "text": [
      "1\n",
      "12\n",
      "123\n",
      "1234\n",
      "12345\n"
     ]
    }
   ],
   "source": [
    "def num(n):\n",
    "  if n == 1:\n",
    "    print('1',end='')\n",
    "    return\n",
    "  num(n-1)\n",
    "  print(str(n),end='')\n",
    "\n",
    "def triangle(n):\n",
    "  if n == 1:\n",
    "    num(1)\n",
    "    print()\n",
    "    return\n",
    "  triangle(n-1)\n",
    "  num(n)\n",
    "  print()\n",
    "triangle(5)\n"
   ]
  },
  {
   "cell_type": "code",
   "execution_count": 14,
   "metadata": {},
   "outputs": [
    {
     "name": "stdout",
     "output_type": "stream",
     "text": [
      "    1\n",
      "   12\n",
      "  123\n",
      " 1234\n",
      "12345"
     ]
    }
   ],
   "source": [
    "def space(n):\n",
    "  print(' '*n,end='')\n",
    "def rev_triangle(n,s=0):\n",
    "  if n == 1 :\n",
    "    space(s)\n",
    "    num(1)\n",
    "    return\n",
    "  rev_triangle(n-1,s+1)\n",
    "  print()\n",
    "  space(s)\n",
    "  num(n)\n",
    "rev_triangle(5)\n",
    "    "
   ]
  },
  {
   "cell_type": "code",
   "execution_count": 21,
   "metadata": {},
   "outputs": [
    {
     "name": "stdout",
     "output_type": "stream",
     "text": [
      "Investment: 25000 Profit: 0\n",
      "Investment: 100000 Profit: 3375\n",
      "Investment: 250000 Profit: 15375\n",
      "Investment: 350000 Profit: 23375\n"
     ]
    }
   ],
   "source": [
    "import sys\n",
    "sys.setrecursionlimit(10000)\n",
    "class FinalQ:\n",
    "  def print(self,array,idx):\n",
    "    if(idx<len(array)):\n",
    "      profit = self.calcProfit(array[idx])\n",
    "      print('Investment:',array[idx],'Profit:',profit)\n",
    "    else:\n",
    "      return\n",
    "    self.print(array,idx+1)\n",
    "#TO DO\n",
    "  def calcProfit(self,investment):\n",
    "    if investment%1000 == 0:\n",
    "    \n",
    "      if investment <=25000:\n",
    "        return 0\n",
    "      if investment <= 100000 and investment > 25000:\n",
    "        return 45 + self.calcProfit(investment - 1000)\n",
    "      if  investment > 100000 :\n",
    "        return 80 + self.calcProfit(investment-1000)\n",
    "    else:\n",
    "        if investment <=25000:\n",
    "          return 0\n",
    "        if investment <= 100000 and investment > 25000:\n",
    "          return 4.5 + self.calcProfit(investment - 100)\n",
    "        if  investment > 100000 :\n",
    "          return 8 + self.calcProfit(investment-100)\n",
    "    \n",
    "\n",
    "\n",
    "\n",
    "#TO DO\n",
    "#Tester\n",
    "array=[25000,100000,250000,350000]\n",
    "f = FinalQ()\n",
    "f.print(array,0)"
   ]
  },
  {
   "cell_type": "code",
   "execution_count": 16,
   "metadata": {},
   "outputs": [
    {
     "data": {
      "text/plain": [
       "True"
      ]
     },
     "execution_count": 16,
     "metadata": {},
     "output_type": "execute_result"
    }
   ],
   "source": [
    "def good_number(n,idx = 0,fib = [1,2,3,5,8]):\n",
    "  if idx > len(n)-1:\n",
    "    return True\n",
    "  if idx%2 == 0 :\n",
    "    if int(n[idx]) %2 != 0 :\n",
    "      return False\n",
    "  else:\n",
    "    if int(n[idx]) not in fib:\n",
    "      return False\n",
    "  return good_number(n,idx+1,fib)\n",
    "good_number('0155')\n",
    "  \n"
   ]
  },
  {
   "cell_type": "code",
   "execution_count": 17,
   "metadata": {},
   "outputs": [
    {
     "data": {
      "text/plain": [
       "1"
      ]
     },
     "execution_count": 17,
     "metadata": {},
     "output_type": "execute_result"
    }
   ],
   "source": [
    "def reverse_list(head):\n",
    "  if head.next == None :\n",
    "    return head\n",
    "  reverse_list(head.next).next = head\n",
    "  return head\n",
    "a = Node(1)\n",
    "b = Node(2)\n",
    "d = Node(4)\n",
    "a.next = b\n",
    "b.next = d\n",
    "reverse_list(a).elem\n"
   ]
  }
 ],
 "metadata": {
  "kernelspec": {
   "display_name": "base",
   "language": "python",
   "name": "python3"
  },
  "language_info": {
   "codemirror_mode": {
    "name": "ipython",
    "version": 3
   },
   "file_extension": ".py",
   "mimetype": "text/x-python",
   "name": "python",
   "nbconvert_exporter": "python",
   "pygments_lexer": "ipython3",
   "version": "3.9.7"
  },
  "orig_nbformat": 4
 },
 "nbformat": 4,
 "nbformat_minor": 2
}
